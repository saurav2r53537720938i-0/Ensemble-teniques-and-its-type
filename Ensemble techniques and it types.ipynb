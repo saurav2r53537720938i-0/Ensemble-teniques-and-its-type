{
 "cells": [
  {
   "cell_type": "markdown",
   "id": "9de9459f-bbed-4e4a-8ddf-e81e64acac88",
   "metadata": {},
   "source": [
    "To handle highly correlated features and missing values in your datset you can consider the following steps:\n",
    "1. Feature slection/dimensionallity reduction\n",
    "2. Imputation of missing value\n",
    "3. data normalization standarlization\n",
    "4. Encoding categorical features\n",
    "5. Model slection and evluation\n",
    "6. Regularization"
   ]
  },
  {
   "cell_type": "code",
   "execution_count": null,
   "id": "7ac2c13c-a2b5-412c-b5b0-3b9ff5407c8b",
   "metadata": {},
   "outputs": [],
   "source": [
    "from sklearn.datasets import\n",
    "load_iris\n",
    "from sklearn model_slection import\n",
    "train_test_split\n",
    "from sklearn.ensemble import\n",
    "RandomForestClassfier,\n",
    "Votingclassfier\n",
    "from sklearn.linear_model import\n",
    "logisticRegression\n",
    "from sklearn.linear_model import\n",
    "from sklearn.metricvs import\n",
    "accuracy_score\n",
    "# Load iris dataset\n",
    "i"
   ]
  }
 ],
 "metadata": {
  "kernelspec": {
   "display_name": "Python 3 (ipykernel)",
   "language": "python",
   "name": "python3"
  },
  "language_info": {
   "codemirror_mode": {
    "name": "ipython",
    "version": 3
   },
   "file_extension": ".py",
   "mimetype": "text/x-python",
   "name": "python",
   "nbconvert_exporter": "python",
   "pygments_lexer": "ipython3",
   "version": "3.10.8"
  }
 },
 "nbformat": 4,
 "nbformat_minor": 5
}
